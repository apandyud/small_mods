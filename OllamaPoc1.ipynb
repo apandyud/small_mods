{
 "cells": [
  {
   "cell_type": "code",
   "execution_count": 10,
   "id": "a148ed62-a8e9-4b51-8bc4-80fa7c4c93fa",
   "metadata": {},
   "outputs": [
    {
     "name": "stdout",
     "output_type": "stream",
     "text": [
      "Okay, I'm ready to hint! To give you the best hint, I need to know **what you're trying to solve.** \n",
      "\n",
      "Please tell me:\n",
      "\n",
      "* **What are you working on?** (e.g., a riddle, a puzzle, a coding problem, a math problem, a creative writing prompt, a game, etc.)\n",
      "* **What is the problem itself?** (Please share the actual question, riddle, or prompt.)\n",
      "* **What have you tried so far?** (This helps me avoid repeating things you already know.)\n",
      "\n",
      "The more information you give me, the better and more helpful my hint will be! 😊\n",
      "\n",
      "\n",
      "\n",
      "**Just paste the problem here, and I'll do my best to guide you.**\n",
      "\n",
      "\n",
      "\n",
      "\n",
      "Okay, I'm ready to hint! To give you the best hint, I need to know **what you're trying to solve.** \n",
      "\n",
      "Please tell me:\n",
      "\n",
      "* **What are you working on?** (e.g., a riddle, a puzzle, a coding problem, a math problem, a creative writing prompt, a real-life situation)\n",
      "* **If it's a riddle or puzzle, can you share the riddle/puzzle itself?**\n",
      "* **If it's a problem, can you describe the problem?** \n",
      "* **What have you tried already?** (This helps me avoid giving you a hint you already know!)\n",
      "\n",
      "The more information you give me, the better I can tailor the hint to your needs. 😊\n",
      "\n",
      "\n",
      "\n",
      "**Just tell me what you're stuck on!** ✨\n",
      "\n",
      "\n",
      "\n",
      "\n"
     ]
    },
    {
     "data": {
      "text/plain": [
       "('ai_msg2', ',', 't3-t2,', 't2-t1,', '(t3-t1)/2')"
      ]
     },
     "execution_count": 10,
     "metadata": {},
     "output_type": "execute_result"
    }
   ],
   "source": [
    "from langchain_community.chat_models import ChatOllama\n",
    "from langchain.schema import HumanMessage\n",
    "llm = ChatOllama(model=\"gemma3n:e4b\", temperature = 0.0, top_p = 1, repeat_penalty=1, presence_penalty=0, frequency_penalty=0)  # vagy bármely más elérhető Ollama modell\n",
    "\n",
    "messages = [\n",
    "    \n",
    "    (\"human\", \"Hint me!\")\n",
    "]\n",
    "import time\n",
    "t1 = time.time()\n",
    "ai_msg1 = llm.invoke(messages)\n",
    "t2 = time.time()\n",
    "ai_msg2 = llm.invoke(messages)\n",
    "t3 = time.time()\n",
    "print(ai_msg1.content)\n",
    "print(ai_msg2.content)\n",
    ", ai_msg2 , t3-t2,  t2-t1, (t3-t1)/2"
   ]
  },
  {
   "cell_type": "code",
   "execution_count": null,
   "id": "c0876104-91d8-4031-9473-c40034fe11fe",
   "metadata": {},
   "outputs": [],
   "source": []
  }
 ],
 "metadata": {
  "kernelspec": {
   "display_name": "tabular",
   "language": "python",
   "name": "tabular"
  },
  "language_info": {
   "codemirror_mode": {
    "name": "ipython",
    "version": 3
   },
   "file_extension": ".py",
   "mimetype": "text/x-python",
   "name": "python",
   "nbconvert_exporter": "python",
   "pygments_lexer": "ipython3",
   "version": "3.8.10"
  }
 },
 "nbformat": 4,
 "nbformat_minor": 5
}
