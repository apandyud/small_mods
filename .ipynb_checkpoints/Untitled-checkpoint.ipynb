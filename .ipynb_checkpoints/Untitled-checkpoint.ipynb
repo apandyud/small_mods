{
 "cells": [
  {
   "cell_type": "code",
   "execution_count": 1,
   "id": "4eddde00-d840-4662-bada-f74e14495e07",
   "metadata": {},
   "outputs": [],
   "source": [
    "#import cga_utils\n",
    "import prompt_versions\n",
    "%load_ext autoreload\n",
    "%autoreload 2"
   ]
  },
  {
   "cell_type": "code",
   "execution_count": 2,
   "id": "14faf272-f67e-41f0-912a-bae74b1910e1",
   "metadata": {},
   "outputs": [],
   "source": [
    "from langchain.globals import set_llm_cache\n",
    "from langchain_community.cache import SQLiteCache\n",
    "\n",
    "set_llm_cache(SQLiteCache(database_path=\".langchain.ollama36.db\"))"
   ]
  },
  {
   "cell_type": "code",
   "execution_count": 3,
   "id": "9efd4b75-1da1-4bfe-9a94-407f05908c3f",
   "metadata": {},
   "outputs": [],
   "source": [
    "from langchain_community.chat_models import ChatOllama\n",
    "llm = ChatOllama(model=\"gemma3n:e4b\", temperature = 0.0, top_p = 1, repeat_penalty=1, presence_penalty=0, frequency_penalty=0)  # vagy bármely más elérhető Ollama modell"
   ]
  },
  {
   "cell_type": "code",
   "execution_count": null,
   "id": "5ab1cfe6-94ee-45b9-b8e1-4f25f04484fd",
   "metadata": {},
   "outputs": [],
   "source": [
    "#cga_utils.execute(llm, prompt_versions.prompt_versions['V18'])"
   ]
  },
  {
   "cell_type": "code",
   "execution_count": null,
   "id": "4e9b5db2-9370-49a6-b177-f3e92a2ac34d",
   "metadata": {},
   "outputs": [],
   "source": []
  },
  {
   "cell_type": "code",
   "execution_count": null,
   "id": "6f9bee08-38b5-4e12-bf38-82d5efa22fb3",
   "metadata": {},
   "outputs": [],
   "source": []
  }
 ],
 "metadata": {
  "kernelspec": {
   "display_name": "tabular",
   "language": "python",
   "name": "tabular"
  },
  "language_info": {
   "codemirror_mode": {
    "name": "ipython",
    "version": 3
   },
   "file_extension": ".py",
   "mimetype": "text/x-python",
   "name": "python",
   "nbconvert_exporter": "python",
   "pygments_lexer": "ipython3",
   "version": "3.8.10"
  }
 },
 "nbformat": 4,
 "nbformat_minor": 5
}
